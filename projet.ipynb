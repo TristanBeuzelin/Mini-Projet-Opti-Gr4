{
 "metadata": {
  "language_info": {
   "codemirror_mode": {
    "name": "ipython",
    "version": 3
   },
   "file_extension": ".py",
   "mimetype": "text/x-python",
   "name": "python",
   "nbconvert_exporter": "python",
   "pygments_lexer": "ipython3",
   "version": 3
  },
  "orig_nbformat": 2
 },
 "nbformat": 4,
 "nbformat_minor": 2,
 "cells": [
  {
   "source": [
    "# I-Etude du problème d'optimisation\n",
    " "
   ],
   "cell_type": "markdown",
   "metadata": {}
  },
  {
   "source": [
    "## 1) Interpréter le coût (2) et en particulier le terme $min\\{q, d\\}$ "
   ],
   "cell_type": "markdown",
   "metadata": {}
  },
  {
   "source": [
    "Les revenus de la boulangerie se calculent en faisant la différence des gains et des pertes. Les gains sont donnés par le produit des ventes par les quantités vendues, tandis que les pertes correspondent au produit des matières premières commandées par leur prix. Les quantités vendues correspondent soit aux quantités fabriquées (si la demande est plus grande que ce que la boulangerie a fabriqué), soit aux quantités demandées (si la demande est plus faible que ce que la boulangerie a fabriqué)."
   ],
   "cell_type": "markdown",
   "metadata": {}
  },
  {
   "source": [
    "## 2) Quelle difficulté présente ce dernier terme dans le cadre d’un algorithme d’optimisation ?"
   ],
   "cell_type": "markdown",
   "metadata": {}
  },
  {
   "source": [
    "La fonction $min$ n'est pas différentiable partout."
   ],
   "cell_type": "markdown",
   "metadata": {}
  },
  {
   "source": [
    "## 3) Quel intérêt a-t-on à considérer ce problème approché plutôt que le problème originel ? "
   ],
   "cell_type": "markdown",
   "metadata": {}
  },
  {
   "source": [
    "Soit $\\alpha > 0$. On maximise $v^th(q,d)-c^tr$.\n",
    "\n",
    "$h_i(q,d)\\approx \\frac{q_i(1-\\alpha q_i)+d_i(1-\\alpha d_i)}{1-\\alpha q_i+1-\\alpha d_i}$"
   ],
   "cell_type": "markdown",
   "metadata": {}
  },
  {
   "cell_type": "code",
   "execution_count": null,
   "metadata": {},
   "outputs": [],
   "source": []
  }
 ]
}