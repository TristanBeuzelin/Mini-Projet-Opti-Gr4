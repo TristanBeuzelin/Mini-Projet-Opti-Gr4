{
 "cells": [
  {
   "cell_type": "markdown",
   "metadata": {},
   "source": [
    "# Projet d'optimisation, Tristan Beuzelin, Antoine Leboeuf"
   ]
  },
  {
   "cell_type": "markdown",
   "metadata": {},
   "source": [
    "# I-Etude du problème d'optimisation\n",
    " "
   ]
  },
  {
   "cell_type": "markdown",
   "metadata": {},
   "source": [
    "## 1) Interpréter le coût (2) et en particulier le terme $min\\{q, d\\}$ "
   ]
  },
  {
   "cell_type": "markdown",
   "metadata": {},
   "source": [
    "Les revenus de la boulangerie se calculent en faisant la différence des gains et des pertes. Les gains sont donnés par le produit des ventes par les quantités vendues, tandis que les pertes correspondent au produit des matières premières commandées par leur prix. Les quantités vendues correspondent soit aux quantités fabriquées (si la demande est plus grande que ce que la boulangerie a fabriqué), soit aux quantités demandées (si la demande est plus faible que ce que la boulangerie a fabriqué)."
   ]
  },
  {
   "cell_type": "markdown",
   "metadata": {},
   "source": [
    "## 2) Quelle difficulté présente ce dernier terme dans le cadre d’un algorithme d’optimisation ?"
   ]
  },
  {
   "cell_type": "markdown",
   "metadata": {},
   "source": [
    "La fonction $min$ n'est pas différentiable partout."
   ]
  },
  {
   "cell_type": "markdown",
   "metadata": {},
   "source": [
    "## 3) Quel intérêt a-t-on à considérer ce problème approché plutôt que le problème originel ? "
   ]
  },
  {
   "cell_type": "markdown",
   "metadata": {},
   "source": [
    "Soit $\\alpha > 0$. On maximise $v^th(q,d)-c^tr$.\n",
    "\n",
    "$h_i(q, d) = \\frac{q_ie^{-\\alpha q_i}+d_ie^{-\\alpha d_i}}{e^{-\\alpha q_i}+e^{-\\alpha d_i}} = q_i\\frac{1}{1+e^{\\alpha(q_i-d_i)}}+d_i\\frac{1}{1+e^{\\alpha(d_i-q_i)}}$\n",
    "\n",
    "Ainsi, pour $\\alpha\\gg 1$, dès que $q_i < d_i$, on a $h_i(q, d)\\approx q_i$ et dès que $q_i > d_i$, on a $h_i(q, d)\\approx d_i$\n",
    "\n",
    "Avec cette approximation, le problème d'optimisation devient différentiable et l'on peut lui appliquer les algorithmes adaptés."
   ]
  },
  {
   "cell_type": "markdown",
   "metadata": {},
   "source": [
    "### 4) Formuler le problème d'optimisation."
   ]
  },
  {
   "cell_type": "markdown",
   "metadata": {},
   "source": [
    "Les variables de décision sur lesquelles la boulangerie peut agir sont les quantités commandées $r_i$ et les quantités fabirquées $q_i$. On a donc $z=(r, q)$ et $n=2$.\n",
    "\n",
    " Les contraintes auxquelles on doit faire face sont:\n",
    "\n",
    " $ c1(r, q) = Aq-r\\leq 0 $\n",
    "\n",
    " $ c2(r, q) = -r\\leq 0$\n",
    " \n",
    " $ c3(r, q) = -q\\leq 0$\n",
    "\n",
    " La fonction f à minimiser est alors:\n",
    "\n",
    " $ f(z)=f(r, q)= c^Tr-v^Th(q, d) $"
   ]
  },
  {
   "cell_type": "markdown",
   "metadata": {},
   "source": [
    "# II - Etude et résolution numérique"
   ]
  },
  {
   "cell_type": "markdown",
   "metadata": {},
   "source": [
    "### 5) Quelles sont les méthodes de résolution adaptées au problème ?"
   ]
  },
  {
   "cell_type": "markdown",
   "metadata": {},
   "source": [
    "Grâce à notre approximation de la fonction initiale, le problème est dorénavant différentiable, la fonction coût et les contraintes sont régulières. Toutefois, cela reste un problème de minimisation sous contraintes d'inégalité donc il faut utiliser des algorithmes particuliers qui prennent en compte cet aspect.\n",
    "\n",
    "On pourrait envisager l'implémentation de l'algorithme d'Uzawa ou encore d'Arrow-Hurwicz pour résoudre le problème. Cependant, il est impossible d'utiliser l'algorithme des contraintes actives QP car la fonction coût n'est pas de forme quadratique."
   ]
  },
  {
   "cell_type": "markdown",
   "metadata": {},
   "source": [
    "### 6)  En utilisant des conditions initiales nulles. Les résultats obtenus sont-ils conformes à votre intuition ?"
   ]
  },
  {
   "cell_type": "code",
   "execution_count": 3,
   "metadata": {},
   "outputs": [
    {
     "name": "stdout",
     "output_type": "stream",
     "text": [
      "q optimal :  [402.12704191  74.77864147  43.07734661]\n",
      "r optimal :  [  1600.0792763  107590.98546241    727.46117218   3421.91912725\n",
      "    635.61845495]\n",
      "r = [  1600.0792763  107590.98546241    727.46117218   3421.91912725\n",
      "    635.61845495] \n",
      " Aq = [  1600.07927623 107590.98545992    727.46117156   3421.91912475\n",
      "    635.61845246]\n"
     ]
    }
   ],
   "source": [
    "from casadi import *\n",
    "import time\n",
    "\n",
    "# Initialisation variables\n",
    "m = 5\n",
    "p = 3\n",
    "alpha = 0.1\n",
    "c = MX([30e-3, 1e-3, 4e-3, 1e-3, 1e-3])  # Erreur sujet (manque dernier coeff c)\n",
    "v = MX([0.9, 1.5, 1.1])\n",
    "d = MX([400, 67, 33])\n",
    "A = MX(np.array([[3.5, 2., 1.], [250., 80., 25.], [0., 8., 3.], [0., 40., 10.], [0., 8.5, 0.]]))\n",
    "\n",
    "# Création problème d'optimisation\n",
    "opti = casadi.Opti()\n",
    "options = dict(print_time = False, ipopt = dict(print_level = 0))\n",
    "r = opti.variable(m)\n",
    "q = opti.variable(p)\n",
    "\n",
    "h = ( ( q*exp(-alpha*q) ) + ( d*exp(-alpha*d) ) ) / ( exp(-alpha*q) + exp(-alpha*d) )\n",
    "f = -( dot(v,h) - dot(c,r) )\n",
    "\n",
    "opti.minimize(f)\n",
    "opti.subject_to(A@q-r<=0)\n",
    "opti.subject_to(-q<=0)\n",
    "opti.subject_to(-r<=0)\n",
    "r0 = np.zeros((m, 1))\n",
    "opti.set_initial(r,r0)\n",
    "q0 = np.zeros((p, 1))\n",
    "opti.set_initial(q, q0)\n",
    "opti.solver('ipopt', options)\n",
    "sol = opti.solve()\n",
    "print(\"q optimal : \", sol.value(q))\n",
    "print(\"r optimal : \", sol.value(r))\n",
    "print(f\"r = {sol.value(r)} \\n Aq = {sol.value(A@q)}\")"
   ]
  },
  {
   "cell_type": "markdown",
   "metadata": {},
   "source": [
    "Avec les conditions initiales nulles, nous obtenons les résultats suivants:\n",
    "\n",
    "- Baguettes de pain : 402 unités\n",
    "\n",
    "- Pains au chocolat : 75 unités\n",
    "\n",
    "- Croissants : 43 unités\n",
    "\n",
    "- Levure : 1.6 kg\n",
    "\n",
    "- Farine : 107.591 kg\n",
    "\n",
    "- Sucre : 727 g\n",
    "\n",
    "- Beurre : 3.422 kg\n",
    "\n",
    "- Chocolat : 636 g\n",
    "\n",
    "Les quantités obtenues ne sont pas irréalistes et semblent cohérentes. Il faut par exemple énormément de farine et peu de levure, et on vend beaucoup plus de baguettes que de viennoiseries. On approche fortement l'optimalité $r = Aq$, mais la quantité fabriquée est supérieure à la demande $q >d$.\n"
   ]
  },
  {
   "cell_type": "markdown",
   "metadata": {},
   "source": [
    "### 7)(a) Formuler l'écriture de cette variante du problème d'optimisation."
   ]
  },
  {
   "cell_type": "markdown",
   "metadata": {},
   "source": [
    "Il s'agit ici de maximiser la fonction coût $E[v^Th(q, d)-c^Tr]$, donc de minimiser $E[c^Tr-v^Th(q, d)]$. On a donc :\n",
    "\n",
    "$f(z) = f(r, q) = \\sum\\limits_{i} \\pi^if_i(r, q) $\n",
    "\n",
    "Avec $f_i(r, q) = c^Tr-v^Th(q, d^i)$\n",
    "\n",
    "Les contraintes sont quant à elles inchangées."
   ]
  },
  {
   "cell_type": "code",
   "execution_count": 4,
   "metadata": {},
   "outputs": [
    {
     "name": "stdout",
     "output_type": "stream",
     "text": [
      "q optimal :  [406.69842673  79.35650324  55.23971553]\n",
      "r optimal :  [  1637.39721564 109404.11983258    800.57117314   3726.65728747\n",
      "    674.53028004]\n",
      "r = [  1637.39721564 109404.11983258    800.57117314   3726.65728747\n",
      "    674.53028004] \n",
      " Aq = [  1637.39721557 109404.11983008    800.57117253   3726.65728497\n",
      "    674.53027755]\n"
     ]
    }
   ],
   "source": [
    "from casadi import *\n",
    "import time\n",
    "\n",
    "# Initialisation variables\n",
    "m = 5\n",
    "p = 3\n",
    "alpha = 0.1\n",
    "c = MX([30e-3, 1e-3, 4e-3, 1e-3, 1e-3])  # Erreur sujet (manque dernier coeff c)\n",
    "v = MX([0.9, 1.5, 1.1])\n",
    "d = MX([400, 67, 33])\n",
    "A = MX(np.array([[3.5, 2., 1.], [250., 80., 25.], [0., 8., 3.], [0., 40., 10.], [0., 8.5, 0.]]))\n",
    "\n",
    "# Création problème d'optimisation\n",
    "opti = casadi.Opti()\n",
    "r = opti.variable(m)\n",
    "q = opti.variable(p)\n",
    "d_list = [MX([400, 67, 33]), MX([500, 80, 53]), MX([300, 60, 43])]\n",
    "prob_list = [0.5, 0.3, 0.2]\n",
    "h_list = [( ( q*exp(-alpha*q) ) + ( d*exp(-alpha*d) ) ) / ( exp(-alpha*q) + exp(-alpha*d) ) for d in d_list]\n",
    "f = -prob_list[0]*( dot(v,h_list[0]) - dot(c,r) ) - prob_list[1]*( dot(v,h_list[1]) - dot(c,r) ) - prob_list[2]*( dot(v,h_list[2]) - dot(c,r) )\n",
    "\n",
    "opti.minimize(f)\n",
    "opti.subject_to(A@q-r<=0)\n",
    "opti.subject_to(-q<=0)\n",
    "opti.subject_to(-r<=0)\n",
    "r0 = np.zeros((m, 1))\n",
    "opti.set_initial(r, r0)\n",
    "q0 = np.zeros((p, 1))\n",
    "opti.set_initial(q, q0)\n",
    "opti.solver('ipopt', options)\n",
    "sol = opti.solve()\n",
    "print(\"q optimal : \", sol.value(q))\n",
    "print(\"r optimal : \", sol.value(r))\n",
    "print(f\"r = {sol.value(r)} \\n Aq = {sol.value(A@q)}\")"
   ]
  },
  {
   "cell_type": "markdown",
   "metadata": {},
   "source": [
    "Les résultats semblent cohérents, on obtient les mêmes ordres de grandeur que précédemment et l'égalité $r = Aq$. On a cependant toujours $q > d$\n",
    "\n",
    "- Baguettes de pain : 407 unités\n",
    "\n",
    "- Pains au chocolat : 79 unités\n",
    "\n",
    "- Croissants : 55 unités\n",
    "\n",
    "- Levure : 1.637 kg\n",
    "\n",
    "- Farine : 109.404 kg\n",
    "\n",
    "- Sucre : 801 g\n",
    "\n",
    "- Beurre : 3.427 kg\n",
    "\n",
    "- Chocolat : 674 g"
   ]
  },
  {
   "cell_type": "markdown",
   "metadata": {},
   "source": [
    "### 8)(a) Interpréter le premier terme dans le coût (8)."
   ]
  },
  {
   "cell_type": "markdown",
   "metadata": {},
   "source": [
    "Le terme $\\left\\|{q-d}\\right\\|^2$ correspond à l'écart de quantités fabriquées par rapport aux quantités demandées. On désire donc minimiser cet écart. Le second terme correspond toujours aux revenus provenant des ventes."
   ]
  },
  {
   "cell_type": "markdown",
   "metadata": {},
   "source": [
    "### 8)(b) Modifier votre algorithme précédent pour inclure cette seconde étape. Comparer, dans le cas où la demande effectivement réalisée est $d = d^3$, la quantité de produit fabriquée avec celle qui était planifiée.\n"
   ]
  },
  {
   "cell_type": "code",
   "execution_count": 12,
   "metadata": {},
   "outputs": [
    {
     "name": "stdout",
     "output_type": "stream",
     "text": [
      "##################PREDICTION AU MOMENT DES COMMANDES######################\n",
      "\n",
      "q optimal :  [406.69842673  79.35650324  55.23971553]\n",
      "r optimal :  [  1637.39721564 109404.11983258    800.57117314   3726.65728747\n",
      "    674.53028004]\n"
     ]
    }
   ],
   "source": [
    "from casadi import *\n",
    "import time\n",
    "\n",
    "# Initialisation variables\n",
    "m = 5\n",
    "p = 3\n",
    "alpha = 0.1\n",
    "c = MX([30e-3, 1e-3, 4e-3, 1e-3, 1e-3])  # Erreur sujet (manque dernier coeff c)\n",
    "v = MX([0.9, 1.5, 1.1])\n",
    "d = MX([400, 67, 33])\n",
    "A = MX(np.array([[3.5, 2., 1.], [250., 80., 25.], [0., 8., 3.], [0., 40., 10.], [0., 8.5, 0.]]))\n",
    "\n",
    "# Création problème d'optimisation\n",
    "opti = casadi.Opti()\n",
    "r = opti.variable(m)\n",
    "q = opti.variable(p)\n",
    "d_list = [MX([400, 67, 33]), MX([500, 80, 53]), MX([300, 60, 43])]\n",
    "prob_list = [0.5, 0.3, 0.2]\n",
    "h_list = [( ( q*exp(-alpha*q) ) + ( d*exp(-alpha*d) ) ) / ( exp(-alpha*q) + exp(-alpha*d) ) for d in d_list]\n",
    "f = -prob_list[0]*( dot(v,h_list[0]) - dot(c,r) ) - prob_list[1]*( dot(v,h_list[1]) - dot(c,r) ) - prob_list[2]*( dot(v,h_list[2]) - dot(c,r) )\n",
    "\n",
    "opti.minimize(f)\n",
    "opti.subject_to(A@q-r<=0)\n",
    "opti.subject_to(-q<=0)\n",
    "opti.subject_to(-r<=0)\n",
    "r0 = np.zeros((m, 1))\n",
    "opti.set_initial(r, r0)\n",
    "q0 = np.zeros((p, 1))\n",
    "opti.set_initial(q, q0)\n",
    "opti.solver('ipopt', options)\n",
    "sol = opti.solve()\n",
    "r = sol.value(r)\n",
    "print(\"##################PREDICTION AU MOMENT DES COMMANDES######################\\n\")\n",
    "print(\"q optimal : \", sol.value(q))\n",
    "print(\"r optimal : \", r)"
   ]
  },
  {
   "cell_type": "code",
   "execution_count": 14,
   "metadata": {},
   "outputs": [
    {
     "name": "stdout",
     "output_type": "stream",
     "text": [
      "##################PREDICTION APRES LES COMMANDES######################\n",
      "\n",
      "q optimal :  [300.22004929  60.36144863  43.26764076]\n"
     ]
    }
   ],
   "source": [
    "from casadi import *\n",
    "import time\n",
    "\n",
    "# Initialisation variables\n",
    "m = 5\n",
    "p = 3\n",
    "alpha = 0.1\n",
    "c = MX([30e-3, 1e-3, 4e-3, 1e-3, 1e-3])  # Erreur sujet (manque dernier coeff c)\n",
    "v = MX([0.9, 1.5, 1.1])\n",
    "d = MX([300, 60, 43])\n",
    "A = MX(np.array([[3.5, 2., 1.], [250., 80., 25.], [0., 8., 3.], [0., 40., 10.], [0., 8.5, 0.]]))\n",
    "r = MX(r)\n",
    "\n",
    "# Création problème d'optimisation\n",
    "opti = casadi.Opti()\n",
    "q = opti.variable(p)\n",
    "h = ( ( q*exp(-alpha*q) ) + ( d*exp(-alpha*d) ) ) / ( exp(-alpha*q) + exp(-alpha*d) )\n",
    "f = (  dot((q - d), (q - d)) - dot(v,h) )\n",
    "\n",
    "opti.minimize(f)\n",
    "opti.subject_to(A@q-r<=0)\n",
    "opti.subject_to(-q<=0)\n",
    "q0 = np.zeros((p, 1))\n",
    "opti.set_initial(q, q0)\n",
    "opti.solver('ipopt', options)\n",
    "sol = opti.solve()\n",
    "print(\"##################PREDICTION APRES LES COMMANDES######################\\n\")\n",
    "print(\"q optimal : \", sol.value(q))"
   ]
  },
  {
   "cell_type": "markdown",
   "metadata": {},
   "source": [
    "Nous obtenons les résulats suivants:\n",
    "\n",
    "|   | Prédiction avant commande | Prédiction après commande |\n",
    "|:-----------------|:----------------|:----------------|\n",
    "|Baguettes|407|300|\n",
    "|Pains au chocolat|79|60\n",
    "|Croissants|55|43\n",
    "\n",
    "On observe ainsi que les prédictions effectuées avant commande des matières premières surévaluaient celles faites après. C'est un cas de figure meilleur que l'inverse puisque l'on a tout de même de quoi faire les quantités requises."
   ]
  },
  {
   "cell_type": "markdown",
   "metadata": {},
   "source": [
    "# III-Etude du problème non régularisé. "
   ]
  },
  {
   "cell_type": "markdown",
   "metadata": {},
   "source": [
    "### 9) Proposer une méthode de résolution adaptée au problème initial.\n",
    "### Et\n",
    "\n",
    "### 10) Implémenter cette méthode sur l'étude de cas de la question 6 et comparer les résultats obtenus."
   ]
  },
  {
   "cell_type": "markdown",
   "metadata": {},
   "source": [
    "Nous proposons deux approches différentes de résolution du problème initial. Il s'agit de contourner le problème de non différentiabilité de la fonction $min$.\n",
    "\n",
    "La première méthode consiste à proposer une forme alternative à la fonction $min$ comme suit :\n",
    "\n",
    "$min(a, b) = \\frac{a+b}{2}-|\\frac{a-b}{2}|$\n",
    "\n",
    "Ici le problème de différentiabilité a simplement été déplacé sur la fonction valeur absolue. Nous proposons ensuite l'approximation suivante :\n",
    "\n",
    "$|x|\\approx\\sqrt{x^2+\\mu} $\n",
    "\n",
    "La fonction coût devient :\n",
    "\n",
    "$f(r, q) = v^T(\\frac{q+d}{2} - \\frac{\\sqrt{(q-d)^2 + \\mu}}{2}) - c^Tr$\n",
    "\n",
    "Et ce problème d'optimisation est solvable via Casadi car différentiable. Il faut maintenant itérer cette résolution sur des valeurs de $\\mu$ décroissantes. La condition d'arrêt est l'idempotence de la fonction coût, i.e. $f(z_{k+1}) - f(z_k)\\leq \\epsilon$ avec $\\epsilon$ choisi."
   ]
  },
  {
   "cell_type": "code",
   "execution_count": 15,
   "metadata": {
    "tags": []
   },
   "outputs": [
    {
     "name": "stdout",
     "output_type": "stream",
     "text": [
      "mu_value :  2.3864747990995235e-06\n",
      "q optimal :  [400.00018935  67.00067301  33.00084959]\n",
      "r optimal :  [  1567.00285841 106185.12242024    635.00793347   3010.03541882\n",
      "    569.50572307]\n"
     ]
    }
   ],
   "source": [
    "from casadi import *\n",
    "import time\n",
    "\n",
    "# Initialisation variables\n",
    "m = 5\n",
    "p = 3\n",
    "alpha = 0.1\n",
    "mu = MX([1., 1., 1.])\n",
    "c = MX([30e-3, 1e-3, 4e-3, 1e-3, 1e-3])  # Erreur sujet (manque dernier coeff c)\n",
    "v = MX([0.9, 1.5, 1.1])\n",
    "d = MX([400, 67, 33])\n",
    "A = MX(np.array([[3.5, 2., 1.], [250., 80., 25.], [0., 8., 3.], [0., 40., 10.], [0., 8.5, 0.]]))\n",
    "f_ant = 100.\n",
    "\n",
    "# Création problème d'optimisation\n",
    "opti = casadi.Opti()\n",
    "r = opti.variable(m)\n",
    "q = opti.variable(p)\n",
    "mu = opti.parameter(1)\n",
    "\n",
    "h = (q+d)/2 - sqrt((q-d)**2+mu)\n",
    "f = -( dot(v,h) - dot(c,r) )\n",
    "\n",
    "opti.minimize(f)\n",
    "opti.subject_to(A@q-r<=0)\n",
    "opti.subject_to(-q<=0)\n",
    "opti.subject_to(-r<=0)\n",
    "r0 = np.zeros((m, 1))\n",
    "opti.set_initial(r,r0)\n",
    "q0 = np.zeros((p, 1))\n",
    "opti.set_initial(q, q0)\n",
    "opti.solver('ipopt', options)\n",
    "mu_val = 1.\n",
    "flag = True\n",
    "while flag:\n",
    "    opti.set_value(mu, mu_val)\n",
    "    sol = opti.solve()\n",
    "    r_val = sol.value(r)\n",
    "    q_val = sol.value(q)\n",
    "    f_val = sol.value(f)\n",
    "    if abs(f_val-f_ant) <= 1e-3: # Condition d'arrêt particulière car rien ne garantit la convergence de x vers argmin\n",
    "        flag = False\n",
    "    f_ant = f_val\n",
    "    mu_val *= 0.75\n",
    "print(\"mu_value : \", mu_val)\n",
    "print(\"q optimal : \", q_val)\n",
    "print(\"r optimal : \", r_val)"
   ]
  },
  {
   "cell_type": "markdown",
   "metadata": {},
   "source": [
    "La valeur optimale de $\\mu$ est alors d'environ $2.39\\times 10^{-6}$, et l'on obtient $q = d$ et $r = Aq$. La solution optimale est bien trouvée."
   ]
  },
  {
   "cell_type": "markdown",
   "metadata": {},
   "source": [
    "La deuxième approche consiste à introduire une nouvelle variable d'optimisation, qui correspond aux quantités que le boulanger a effectivement vendu. Nous la noterons $s$.\n",
    "\n",
    "La fonction coût devient alors : $f(r, q, s) = v^Ts-c^Tr$\n",
    "\n",
    "Et la variable des ventes est soumise aux contraintes suivantes :\n",
    "\n",
    "$c_4(r, q, s) = -s \\leq 0$\n",
    "\n",
    "$c_5(r, q, s) = s-q \\leq 0$\n",
    "\n",
    "$c_6(r, q, s) = s-d \\leq 0$\n",
    "\n",
    "Le problème d'optimisation obtenu ici est bien différentiable et correspond à la même situation qu'auparavant."
   ]
  },
  {
   "cell_type": "code",
   "execution_count": 16,
   "metadata": {},
   "outputs": [
    {
     "name": "stdout",
     "output_type": "stream",
     "text": [
      "q optimal :  [400.          67.00000001  33.00000003]\n",
      "r optimal :  [  1567.00000013 106185.00000462    635.00000078   3010.00000317\n",
      "    569.50000257]\n",
      "s optimal :  [400.00000001  67.00000001  33.00000001]\n"
     ]
    }
   ],
   "source": [
    "from casadi import *\n",
    "import time\n",
    "\n",
    "# Initialisation variables\n",
    "m = 5\n",
    "p = 3\n",
    "alpha = 0.1\n",
    "c = MX([30e-3, 1e-3, 4e-3, 1e-3, 1e-3])  # Erreur sujet (manque dernier coeff c)\n",
    "v = MX([0.9, 1.5, 1.1])\n",
    "d = MX([400, 67, 33])\n",
    "A = MX(np.array([[3.5, 2., 1.], [250., 80., 25.], [0., 8., 3.], [0., 40., 10.], [0., 8.5, 0.]]))\n",
    "\n",
    "# Création problème d'optimisation\n",
    "opti = casadi.Opti()\n",
    "r = opti.variable(m)\n",
    "q = opti.variable(p)\n",
    "s = opti.variable(p)\n",
    "\n",
    "f = -( dot(v,s) - dot(c,r) )\n",
    "\n",
    "opti.minimize(f)\n",
    "opti.subject_to(A@q-r<=0)\n",
    "opti.subject_to(-q<=0)\n",
    "opti.subject_to(-r<=0)\n",
    "opti.subject_to(-s<=0)\n",
    "opti.subject_to(s-q<=0)\n",
    "opti.subject_to(s-d<=0)\n",
    "r0 = np.zeros((m, 1))\n",
    "opti.set_initial(r,r0)\n",
    "q0 = np.zeros((p, 1))\n",
    "opti.set_initial(q, q0)\n",
    "s0 = np.zeros((p, 1))\n",
    "opti.set_initial(s, s0)\n",
    "opti.solver('ipopt', options)\n",
    "sol = opti.solve()\n",
    "print(\"q optimal : \", sol.value(q))\n",
    "print(\"r optimal : \", sol.value(r))\n",
    "print(\"s optimal : \", sol.value(s))\n"
   ]
  },
  {
   "cell_type": "markdown",
   "metadata": {},
   "source": [
    "On obtient $q = d = s$ et $r = Aq$. La solution optimale est bien trouvée. On se rend alors compte que la façon dont le problème d'optimisation est posé influence énormément sur la rapidité de résolution de celui-ci."
   ]
  }
 ],
 "metadata": {
  "kernelspec": {
   "display_name": "Python 3",
   "language": "python",
   "name": "python3"
  },
  "language_info": {
   "codemirror_mode": {
    "name": "ipython",
    "version": 3
   },
   "file_extension": ".py",
   "mimetype": "text/x-python",
   "name": "python",
   "nbconvert_exporter": "python",
   "pygments_lexer": "ipython3",
   "version": "3.8.3"
  }
 },
 "nbformat": 4,
 "nbformat_minor": 2
}
